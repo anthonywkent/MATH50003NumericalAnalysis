{
 "cells": [
  {
   "cell_type": "markdown",
   "metadata": {},
   "source": [
    "# MATH50003 Numerical Analysis (2022–23)\n",
    "# Lab 4: Structured Matrices"
   ]
  },
  {
   "cell_type": "markdown",
   "metadata": {},
   "source": [
    "This lab explores the basics of arrays (matrices and vectors)\n",
    "in Julia. We also investigate implementation of triangular solves,\n",
    "supporting a matrix with two super-diagonals."
   ]
  },
  {
   "cell_type": "markdown",
   "metadata": {},
   "source": [
    "Note in programming there are often different ways to do the same thing.\n",
    "so some of the hints suggest multiple ways to solve the same problem.\n",
    "Remember you can use `?` to discover the functions mentioned in the hints."
   ]
  },
  {
   "cell_type": "code",
   "execution_count": 16,
   "metadata": {},
   "outputs": [],
   "source": [
    "using LinearAlgebra, Test\n",
    "\n",
    "# We will override these functions below\n",
    "import Base: getindex, setindex!, size, *, \\"
   ]
  },
  {
   "cell_type": "markdown",
   "metadata": {},
   "source": [
    "## 1. Array creation"
   ]
  },
  {
   "cell_type": "markdown",
   "metadata": {},
   "source": [
    "One can create arrays in multiple ways. For example, the function `zeros(Int, 10)` creates\n",
    "a 10-element `Vector` whose entries are all `zero(Int) == 0`. Or `fill(x, 10)` creates a\n",
    "10-element `Vector` whose entries are all equal to `x`. Or you can use a comprehension:\n",
    "for example `[k^2 for k = 1:10]` creates a vector whose entries are `[1^2, 2^2, …, 10^2]`.\n",
    "This also works for matrices: `zeros(Int, 10, 5)` creates a 10 × 5 matrix of all zeros,\n",
    "and `[k^2 + j for k=1:3, j=1:4]` creates the following:"
   ]
  },
  {
   "cell_type": "code",
   "execution_count": 2,
   "metadata": {},
   "outputs": [
    {
     "data": {
      "text/plain": [
       "4×3 Matrix{Int64}:\n",
       " 2  5  10\n",
       " 3  6  11\n",
       " 4  7  12\n",
       " 5  8  13"
      ]
     },
     "execution_count": 2,
     "metadata": {},
     "output_type": "execute_result"
    }
   ],
   "source": [
    "[k^2 + j for k=1:3, j=1:4]"
   ]
  },
  {
   "cell_type": "markdown",
   "metadata": {},
   "source": [
    "Note sometimes it is best to create a vector/matrix and populate it. For example, the\n",
    "previous matrix could also been constructed as follows:"
   ]
  },
  {
   "cell_type": "code",
   "execution_count": 5,
   "metadata": {},
   "outputs": [
    {
     "data": {
      "text/plain": [
       "3×4 Matrix{Int64}:\n",
       "  2   3   4   5\n",
       "  5   6   7   8\n",
       " 10  11  12  13"
      ]
     },
     "execution_count": 5,
     "metadata": {},
     "output_type": "execute_result"
    }
   ],
   "source": [
    "A = zeros(Int, 3, 4)\n",
    "for k = 1:3, j = 1:4\n",
    "    A[k,j] = k^2 + j\n",
    "end\n",
    "A"
   ]
  },
  {
   "cell_type": "markdown",
   "metadata": {},
   "source": [
    "**Problem 1.1** Create a vector of length 5 whose entries are `Int` which is\n",
    "zero in all entries. Hint: use `zeros`, `fill`, or a comprehension."
   ]
  },
  {
   "cell_type": "code",
   "execution_count": 4,
   "metadata": {},
   "outputs": [
    {
     "data": {
      "text/plain": [
       "5-element Vector{Int64}:\n",
       " 0\n",
       " 0\n",
       " 0\n",
       " 0\n",
       " 0"
      ]
     },
     "execution_count": 4,
     "metadata": {},
     "output_type": "execute_result"
    }
   ],
   "source": [
    "B = zeros(Int, 5)"
   ]
  },
  {
   "cell_type": "markdown",
   "metadata": {},
   "source": [
    "**Problem 1.2** Create a 5×6 matrix whose entries are `Int` which is\n",
    "one in all entries. Hint: use a for-loop, `ones`, `fill`, or a comprehension."
   ]
  },
  {
   "cell_type": "code",
   "execution_count": 6,
   "metadata": {},
   "outputs": [
    {
     "data": {
      "text/plain": [
       "5×6 Matrix{Int64}:\n",
       " 1  1  1  1  1  1\n",
       " 1  1  1  1  1  1\n",
       " 1  1  1  1  1  1\n",
       " 1  1  1  1  1  1\n",
       " 1  1  1  1  1  1"
      ]
     },
     "execution_count": 6,
     "metadata": {},
     "output_type": "execute_result"
    }
   ],
   "source": [
    "C = ones(Int, 5, 6)"
   ]
  },
  {
   "attachments": {},
   "cell_type": "markdown",
   "metadata": {},
   "source": [
    "**Problem 1.3** Create a 1 × 5 `Matrix{Int}` with entries `A[k,j] = j`. Hint: use a for-loop or a comprehension."
   ]
  },
  {
   "cell_type": "code",
   "execution_count": 8,
   "metadata": {},
   "outputs": [
    {
     "data": {
      "text/plain": [
       "1×5 Matrix{Int64}:\n",
       " 1  2  3  4  5"
      ]
     },
     "execution_count": 8,
     "metadata": {},
     "output_type": "execute_result"
    }
   ],
   "source": [
    "D = zeros(Int, 1, 5)\n",
    "for j = 1:5\n",
    "    D[1,j] = j\n",
    "end\n",
    "D"
   ]
  },
  {
   "cell_type": "markdown",
   "metadata": {},
   "source": [
    "**Problem 1.4** Create a vector of length 5 whose entries are `Float64`\n",
    "approximations of `exp(-k)`. Hint: one use a for-loop or broadcasting `f.(x)` notation."
   ]
  },
  {
   "cell_type": "code",
   "execution_count": 12,
   "metadata": {},
   "outputs": [
    {
     "data": {
      "text/plain": [
       "5-element Vector{Float64}:\n",
       " 0.36787944117144233\n",
       " 0.1353352832366127\n",
       " 0.049787068367863944\n",
       " 0.01831563888873418\n",
       " 0.006737946999085467"
      ]
     },
     "execution_count": 12,
     "metadata": {},
     "output_type": "execute_result"
    }
   ],
   "source": [
    "E = [k for k = -1:-1:-5]\n",
    "exp.(E)"
   ]
  },
  {
   "cell_type": "markdown",
   "metadata": {},
   "source": [
    "**Problem 1.5** Create a 5 × 6 matrix `A` whose entries `A[k,j] == cos(k+j)`."
   ]
  },
  {
   "cell_type": "code",
   "execution_count": 14,
   "metadata": {},
   "outputs": [
    {
     "data": {
      "text/plain": [
       "5×6 Matrix{Float64}:\n",
       " -0.416147  -0.989992  -0.653644   0.283662   0.96017    0.753902\n",
       " -0.989992  -0.653644   0.283662   0.96017    0.753902  -0.1455\n",
       " -0.653644   0.283662   0.96017    0.753902  -0.1455    -0.91113\n",
       "  0.283662   0.96017    0.753902  -0.1455    -0.91113   -0.839072\n",
       "  0.96017    0.753902  -0.1455    -0.91113   -0.839072   0.0044257"
      ]
     },
     "execution_count": 14,
     "metadata": {},
     "output_type": "execute_result"
    }
   ],
   "source": [
    "F = [k + j for k = 1:5, j = 1:6]\n",
    "cos.(F)"
   ]
  },
  {
   "cell_type": "markdown",
   "metadata": {},
   "source": [
    "## 2. Dense Matrices"
   ]
  },
  {
   "cell_type": "markdown",
   "metadata": {},
   "source": [
    "The following problem compares the behaviour of `mul_cols` defined in lectures"
   ]
  },
  {
   "cell_type": "code",
   "execution_count": 17,
   "metadata": {},
   "outputs": [
    {
     "data": {
      "text/plain": [
       "mul_cols (generic function with 1 method)"
      ]
     },
     "execution_count": 17,
     "metadata": {},
     "output_type": "execute_result"
    }
   ],
   "source": [
    "function mul_cols(A, x)\n",
    "    m,n = size(A)\n",
    "    c = zeros(eltype(x), m) # eltype is the type of the elements of a vector/matrix\n",
    "    for j = 1:n, k = 1:m\n",
    "        c[k] += A[k, j] * x[j]\n",
    "    end\n",
    "    c\n",
    "end"
   ]
  },
  {
   "cell_type": "markdown",
   "metadata": {},
   "source": [
    "to the inbuilt matrix-vector multiplication operation `A*x`. The point is that\n",
    "sometimes the choice of algorithm, despite being mathematically equivalent, can change the exact results\n",
    "when using floating point."
   ]
  },
  {
   "cell_type": "markdown",
   "metadata": {},
   "source": [
    "**Problem 2** Show that `A*x` is not\n",
    "implemented as `mul_cols(A, x)` from the lecture notes\n",
    "by finding a `Float64` example  where the bits do not match.\n",
    "Hint: either guess-and-check, perhaps using `randn(n,n)` to make a random `n × n` matrix."
   ]
  },
  {
   "cell_type": "code",
   "execution_count": 28,
   "metadata": {},
   "outputs": [
    {
     "data": {
      "text/plain": [
       "1-element Vector{Vector{Float64}}:\n",
       " [0.0, 0.0, 0.0, 0.0, 0.0]"
      ]
     },
     "execution_count": 28,
     "metadata": {},
     "output_type": "execute_result"
    }
   ],
   "source": [
    "using ColorBitstring\n",
    "n = 5\n",
    "A = rand(n, n)\n",
    "x = ones(Float64, n)\n",
    "\n",
    "[(A * x - mul_cols(A, x))]"
   ]
  },
  {
   "cell_type": "code",
   "execution_count": 38,
   "metadata": {},
   "outputs": [
    {
     "data": {
      "image/svg+xml": "<?xml version=\"1.0\" encoding=\"utf-8\"?>\n<svg xmlns=\"http://www.w3.org/2000/svg\" xmlns:xlink=\"http://www.w3.org/1999/xlink\" width=\"600\" height=\"400\" viewBox=\"0 0 2400 1600\">\n<defs>\n  <clipPath id=\"clip800\">\n    <rect x=\"0\" y=\"0\" width=\"2400\" height=\"1600\"/>\n  </clipPath>\n</defs>\n<path clip-path=\"url(#clip800)\" d=\"\nM0 1600 L2400 1600 L2400 0 L0 0  Z\n  \" fill=\"#ffffff\" fill-rule=\"evenodd\" fill-opacity=\"1\"/>\n<defs>\n  <clipPath id=\"clip801\">\n    <rect x=\"480\" y=\"0\" width=\"1681\" height=\"1600\"/>\n  </clipPath>\n</defs>\n<path clip-path=\"url(#clip800)\" d=\"\nM398.923 1486.45 L2352.76 1486.45 L2352.76 47.2441 L398.923 47.2441  Z\n  \" fill=\"#ffffff\" fill-rule=\"evenodd\" fill-opacity=\"1\"/>\n<defs>\n  <clipPath id=\"clip802\">\n    <rect x=\"398\" y=\"47\" width=\"1955\" height=\"1440\"/>\n  </clipPath>\n</defs>\n<polyline clip-path=\"url(#clip802)\" style=\"stroke:#000000; stroke-linecap:round; stroke-linejoin:round; stroke-width:2; stroke-opacity:0.1; fill:none\" points=\"\n  659.025,1486.45 659.025,47.2441 \n  \"/>\n<polyline clip-path=\"url(#clip802)\" style=\"stroke:#000000; stroke-linecap:round; stroke-linejoin:round; stroke-width:2; stroke-opacity:0.1; fill:none\" points=\"\n  1068.63,1486.45 1068.63,47.2441 \n  \"/>\n<polyline clip-path=\"url(#clip802)\" style=\"stroke:#000000; stroke-linecap:round; stroke-linejoin:round; stroke-width:2; stroke-opacity:0.1; fill:none\" points=\"\n  1478.24,1486.45 1478.24,47.2441 \n  \"/>\n<polyline clip-path=\"url(#clip802)\" style=\"stroke:#000000; stroke-linecap:round; stroke-linejoin:round; stroke-width:2; stroke-opacity:0.1; fill:none\" points=\"\n  1887.85,1486.45 1887.85,47.2441 \n  \"/>\n<polyline clip-path=\"url(#clip802)\" style=\"stroke:#000000; stroke-linecap:round; stroke-linejoin:round; stroke-width:2; stroke-opacity:0.1; fill:none\" points=\"\n  2297.46,1486.45 2297.46,47.2441 \n  \"/>\n<polyline clip-path=\"url(#clip800)\" style=\"stroke:#000000; stroke-linecap:round; stroke-linejoin:round; stroke-width:4; stroke-opacity:1; fill:none\" points=\"\n  398.923,1486.45 2352.76,1486.45 \n  \"/>\n<polyline clip-path=\"url(#clip800)\" style=\"stroke:#000000; stroke-linecap:round; stroke-linejoin:round; stroke-width:4; stroke-opacity:1; fill:none\" points=\"\n  659.025,1486.45 659.025,1467.55 \n  \"/>\n<polyline clip-path=\"url(#clip800)\" style=\"stroke:#000000; stroke-linecap:round; stroke-linejoin:round; stroke-width:4; stroke-opacity:1; fill:none\" points=\"\n  1068.63,1486.45 1068.63,1467.55 \n  \"/>\n<polyline clip-path=\"url(#clip800)\" style=\"stroke:#000000; stroke-linecap:round; stroke-linejoin:round; stroke-width:4; stroke-opacity:1; fill:none\" points=\"\n  1478.24,1486.45 1478.24,1467.55 \n  \"/>\n<polyline clip-path=\"url(#clip800)\" style=\"stroke:#000000; stroke-linecap:round; stroke-linejoin:round; stroke-width:4; stroke-opacity:1; fill:none\" points=\"\n  1887.85,1486.45 1887.85,1467.55 \n  \"/>\n<polyline clip-path=\"url(#clip800)\" style=\"stroke:#000000; stroke-linecap:round; stroke-linejoin:round; stroke-width:4; stroke-opacity:1; fill:none\" points=\"\n  2297.46,1486.45 2297.46,1467.55 \n  \"/>\n<path clip-path=\"url(#clip800)\" d=\"M653.678 1544.91 L669.997 1544.91 L669.997 1548.85 L648.053 1548.85 L648.053 1544.91 Q650.715 1542.16 655.298 1537.53 Q659.904 1532.88 661.085 1531.53 Q663.33 1529.01 664.21 1527.27 Q665.113 1525.51 665.113 1523.82 Q665.113 1521.07 663.168 1519.33 Q661.247 1517.6 658.145 1517.6 Q655.946 1517.6 653.492 1518.36 Q651.062 1519.13 648.284 1520.68 L648.284 1515.95 Q651.108 1514.82 653.562 1514.24 Q656.015 1513.66 658.053 1513.66 Q663.423 1513.66 666.617 1516.35 Q669.812 1519.03 669.812 1523.52 Q669.812 1525.65 669.002 1527.57 Q668.214 1529.47 666.108 1532.07 Q665.529 1532.74 662.427 1535.95 Q659.326 1539.15 653.678 1544.91 Z\" fill=\"#000000\" fill-rule=\"evenodd\" fill-opacity=\"1\" /><path clip-path=\"url(#clip800)\" d=\"M1071.64 1518.36 L1059.84 1536.81 L1071.64 1536.81 L1071.64 1518.36 M1070.42 1514.29 L1076.3 1514.29 L1076.3 1536.81 L1081.23 1536.81 L1081.23 1540.7 L1076.3 1540.7 L1076.3 1548.85 L1071.64 1548.85 L1071.64 1540.7 L1056.04 1540.7 L1056.04 1536.19 L1070.42 1514.29 Z\" fill=\"#000000\" fill-rule=\"evenodd\" fill-opacity=\"1\" /><path clip-path=\"url(#clip800)\" d=\"M1478.65 1529.7 Q1475.5 1529.7 1473.65 1531.86 Q1471.82 1534.01 1471.82 1537.76 Q1471.82 1541.49 1473.65 1543.66 Q1475.5 1545.82 1478.65 1545.82 Q1481.79 1545.82 1483.62 1543.66 Q1485.48 1541.49 1485.48 1537.76 Q1485.48 1534.01 1483.62 1531.86 Q1481.79 1529.7 1478.65 1529.7 M1487.93 1515.05 L1487.93 1519.31 Q1486.17 1518.48 1484.36 1518.04 Q1482.58 1517.6 1480.82 1517.6 Q1476.19 1517.6 1473.74 1520.72 Q1471.31 1523.85 1470.96 1530.17 Q1472.33 1528.15 1474.39 1527.09 Q1476.45 1526 1478.92 1526 Q1484.13 1526 1487.14 1529.17 Q1490.17 1532.32 1490.17 1537.76 Q1490.17 1543.08 1487.03 1546.3 Q1483.88 1549.52 1478.65 1549.52 Q1472.65 1549.52 1469.48 1544.94 Q1466.31 1540.33 1466.31 1531.6 Q1466.31 1523.41 1470.2 1518.55 Q1474.09 1513.66 1480.64 1513.66 Q1482.4 1513.66 1484.18 1514.01 Q1485.98 1514.36 1487.93 1515.05 Z\" fill=\"#000000\" fill-rule=\"evenodd\" fill-opacity=\"1\" /><path clip-path=\"url(#clip800)\" d=\"M1887.85 1532.44 Q1884.52 1532.44 1882.6 1534.22 Q1880.7 1536 1880.7 1539.13 Q1880.7 1542.25 1882.6 1544.03 Q1884.52 1545.82 1887.85 1545.82 Q1891.18 1545.82 1893.1 1544.03 Q1895.03 1542.23 1895.03 1539.13 Q1895.03 1536 1893.1 1534.22 Q1891.21 1532.44 1887.85 1532.44 M1883.17 1530.45 Q1880.17 1529.7 1878.48 1527.64 Q1876.81 1525.58 1876.81 1522.62 Q1876.81 1518.48 1879.75 1516.07 Q1882.71 1513.66 1887.85 1513.66 Q1893.01 1513.66 1895.95 1516.07 Q1898.89 1518.48 1898.89 1522.62 Q1898.89 1525.58 1897.2 1527.64 Q1895.54 1529.7 1892.55 1530.45 Q1895.93 1531.23 1897.8 1533.52 Q1899.7 1535.82 1899.7 1539.13 Q1899.7 1544.15 1896.62 1546.83 Q1893.57 1549.52 1887.85 1549.52 Q1882.13 1549.52 1879.05 1546.83 Q1876 1544.15 1876 1539.13 Q1876 1535.82 1877.9 1533.52 Q1879.79 1531.23 1883.17 1530.45 M1881.46 1523.06 Q1881.46 1525.75 1883.13 1527.25 Q1884.82 1528.76 1887.85 1528.76 Q1890.86 1528.76 1892.55 1527.25 Q1894.26 1525.75 1894.26 1523.06 Q1894.26 1520.38 1892.55 1518.87 Q1890.86 1517.37 1887.85 1517.37 Q1884.82 1517.37 1883.13 1518.87 Q1881.46 1520.38 1881.46 1523.06 Z\" fill=\"#000000\" fill-rule=\"evenodd\" fill-opacity=\"1\" /><path clip-path=\"url(#clip800)\" d=\"M2272.15 1544.91 L2279.79 1544.91 L2279.79 1518.55 L2271.48 1520.21 L2271.48 1515.95 L2279.74 1514.29 L2284.41 1514.29 L2284.41 1544.91 L2292.05 1544.91 L2292.05 1548.85 L2272.15 1548.85 L2272.15 1544.91 Z\" fill=\"#000000\" fill-rule=\"evenodd\" fill-opacity=\"1\" /><path clip-path=\"url(#clip800)\" d=\"M2311.5 1517.37 Q2307.89 1517.37 2306.06 1520.93 Q2304.25 1524.47 2304.25 1531.6 Q2304.25 1538.71 2306.06 1542.27 Q2307.89 1545.82 2311.5 1545.82 Q2315.13 1545.82 2316.94 1542.27 Q2318.77 1538.71 2318.77 1531.6 Q2318.77 1524.47 2316.94 1520.93 Q2315.13 1517.37 2311.5 1517.37 M2311.5 1513.66 Q2317.31 1513.66 2320.36 1518.27 Q2323.44 1522.85 2323.44 1531.6 Q2323.44 1540.33 2320.36 1544.94 Q2317.31 1549.52 2311.5 1549.52 Q2305.69 1549.52 2302.61 1544.94 Q2299.55 1540.33 2299.55 1531.6 Q2299.55 1522.85 2302.61 1518.27 Q2305.69 1513.66 2311.5 1513.66 Z\" fill=\"#000000\" fill-rule=\"evenodd\" fill-opacity=\"1\" /><polyline clip-path=\"url(#clip802)\" style=\"stroke:#000000; stroke-linecap:round; stroke-linejoin:round; stroke-width:2; stroke-opacity:0.1; fill:none\" points=\"\n  398.923,1616.65 2352.76,1616.65 \n  \"/>\n<polyline clip-path=\"url(#clip802)\" style=\"stroke:#000000; stroke-linecap:round; stroke-linejoin:round; stroke-width:2; stroke-opacity:0.1; fill:none\" points=\"\n  398.923,852.316 2352.76,852.316 \n  \"/>\n<polyline clip-path=\"url(#clip802)\" style=\"stroke:#000000; stroke-linecap:round; stroke-linejoin:round; stroke-width:2; stroke-opacity:0.1; fill:none\" points=\"\n  398.923,87.9763 2352.76,87.9763 \n  \"/>\n<polyline clip-path=\"url(#clip802)\" style=\"stroke:#000000; stroke-linecap:round; stroke-linejoin:round; stroke-width:2; stroke-opacity:0.1; fill:none\" points=\"\n  398.923,-676.363 2352.76,-676.363 \n  \"/>\n<polyline clip-path=\"url(#clip800)\" style=\"stroke:#000000; stroke-linecap:round; stroke-linejoin:round; stroke-width:4; stroke-opacity:1; fill:none\" points=\"\n  398.923,1486.45 398.923,47.2441 \n  \"/>\n<polyline clip-path=\"url(#clip800)\" style=\"stroke:#000000; stroke-linecap:round; stroke-linejoin:round; stroke-width:4; stroke-opacity:1; fill:none\" points=\"\n  398.923,1616.65 417.821,1616.65 \n  \"/>\n<polyline clip-path=\"url(#clip800)\" style=\"stroke:#000000; stroke-linecap:round; stroke-linejoin:round; stroke-width:4; stroke-opacity:1; fill:none\" points=\"\n  398.923,852.316 417.821,852.316 \n  \"/>\n<polyline clip-path=\"url(#clip800)\" style=\"stroke:#000000; stroke-linecap:round; stroke-linejoin:round; stroke-width:4; stroke-opacity:1; fill:none\" points=\"\n  398.923,87.9763 417.821,87.9763 \n  \"/>\n<polyline clip-path=\"url(#clip800)\" style=\"stroke:#000000; stroke-linecap:round; stroke-linejoin:round; stroke-width:4; stroke-opacity:1; fill:none\" points=\"\n  398.923,-676.363 417.821,-676.363 \n  \"/>\n<path clip-path=\"url(#clip800)\" d=\"M50.9921 1623.55 L80.6679 1623.55 L80.6679 1627.49 L50.9921 1627.49 L50.9921 1623.55 Z\" fill=\"#000000\" fill-rule=\"evenodd\" fill-opacity=\"1\" /><path clip-path=\"url(#clip800)\" d=\"M90.8067 1605.82 L109.163 1605.82 L109.163 1609.76 L95.0891 1609.76 L95.0891 1618.23 Q96.1076 1617.88 97.1261 1617.72 Q98.1447 1617.54 99.1632 1617.54 Q104.95 1617.54 108.33 1620.71 Q111.709 1623.88 111.709 1629.29 Q111.709 1634.87 108.237 1637.98 Q104.765 1641.05 98.4456 1641.05 Q96.2697 1641.05 94.0012 1640.68 Q91.7558 1640.31 89.3484 1639.57 L89.3484 1634.87 Q91.4317 1636.01 93.6539 1636.56 Q95.8761 1637.12 98.353 1637.12 Q102.358 1637.12 104.696 1635.01 Q107.033 1632.91 107.033 1629.29 Q107.033 1625.68 104.696 1623.58 Q102.358 1621.47 98.353 1621.47 Q96.478 1621.47 94.603 1621.89 Q92.7512 1622.3 90.8067 1623.18 L90.8067 1605.82 Z\" fill=\"#000000\" fill-rule=\"evenodd\" fill-opacity=\"1\" /><path clip-path=\"url(#clip800)\" d=\"M120.922 1634.5 L125.807 1634.5 L125.807 1640.38 L120.922 1640.38 L120.922 1634.5 Z\" fill=\"#000000\" fill-rule=\"evenodd\" fill-opacity=\"1\" /><path clip-path=\"url(#clip800)\" d=\"M145.992 1608.9 Q142.381 1608.9 140.552 1612.47 Q138.746 1616.01 138.746 1623.14 Q138.746 1630.24 140.552 1633.81 Q142.381 1637.35 145.992 1637.35 Q149.626 1637.35 151.431 1633.81 Q153.26 1630.24 153.26 1623.14 Q153.26 1616.01 151.431 1612.47 Q149.626 1608.9 145.992 1608.9 M145.992 1605.2 Q151.802 1605.2 154.857 1609.8 Q157.936 1614.39 157.936 1623.14 Q157.936 1631.86 154.857 1636.47 Q151.802 1641.05 145.992 1641.05 Q140.181 1641.05 137.103 1636.47 Q134.047 1631.86 134.047 1623.14 Q134.047 1614.39 137.103 1609.8 Q140.181 1605.2 145.992 1605.2 Z\" fill=\"#000000\" fill-rule=\"evenodd\" fill-opacity=\"1\" /><path clip-path=\"url(#clip800)\" d=\"M176.153 1608.9 Q172.542 1608.9 170.714 1612.47 Q168.908 1616.01 168.908 1623.14 Q168.908 1630.24 170.714 1633.81 Q172.542 1637.35 176.153 1637.35 Q179.788 1637.35 181.593 1633.81 Q183.422 1630.24 183.422 1623.14 Q183.422 1616.01 181.593 1612.47 Q179.788 1608.9 176.153 1608.9 M176.153 1605.2 Q181.964 1605.2 185.019 1609.8 Q188.098 1614.39 188.098 1623.14 Q188.098 1631.86 185.019 1636.47 Q181.964 1641.05 176.153 1641.05 Q170.343 1641.05 167.265 1636.47 Q164.209 1631.86 164.209 1623.14 Q164.209 1614.39 167.265 1609.8 Q170.343 1605.2 176.153 1605.2 Z\" fill=\"#000000\" fill-rule=\"evenodd\" fill-opacity=\"1\" /><path clip-path=\"url(#clip800)\" d=\"M224.487 1614.92 L213.908 1625.54 L224.487 1636.12 L221.732 1638.92 L211.107 1628.3 L200.482 1638.92 L197.751 1636.12 L208.306 1625.54 L197.751 1614.92 L200.482 1612.12 L211.107 1622.74 L221.732 1612.12 L224.487 1614.92 Z\" fill=\"#000000\" fill-rule=\"evenodd\" fill-opacity=\"1\" /><path clip-path=\"url(#clip800)\" d=\"M236.848 1636.45 L244.486 1636.45 L244.486 1610.08 L236.176 1611.75 L236.176 1607.49 L244.44 1605.82 L249.116 1605.82 L249.116 1636.45 L256.755 1636.45 L256.755 1640.38 L236.848 1640.38 L236.848 1636.45 Z\" fill=\"#000000\" fill-rule=\"evenodd\" fill-opacity=\"1\" /><path clip-path=\"url(#clip800)\" d=\"M276.199 1608.9 Q272.588 1608.9 270.759 1612.47 Q268.954 1616.01 268.954 1623.14 Q268.954 1630.24 270.759 1633.81 Q272.588 1637.35 276.199 1637.35 Q279.833 1637.35 281.639 1633.81 Q283.468 1630.24 283.468 1623.14 Q283.468 1616.01 281.639 1612.47 Q279.833 1608.9 276.199 1608.9 M276.199 1605.2 Q282.009 1605.2 285.065 1609.8 Q288.144 1614.39 288.144 1623.14 Q288.144 1631.86 285.065 1636.47 Q282.009 1641.05 276.199 1641.05 Q270.389 1641.05 267.31 1636.47 Q264.255 1631.86 264.255 1623.14 Q264.255 1614.39 267.31 1609.8 Q270.389 1605.2 276.199 1605.2 Z\" fill=\"#000000\" fill-rule=\"evenodd\" fill-opacity=\"1\" /><path clip-path=\"url(#clip800)\" d=\"M288.144 1599.3 L312.255 1599.3 L312.255 1602.5 L288.144 1602.5 L288.144 1599.3 Z\" fill=\"#000000\" fill-rule=\"evenodd\" fill-opacity=\"1\" /><path clip-path=\"url(#clip800)\" d=\"M321.114 1609.77 L327.32 1609.77 L327.32 1588.35 L320.568 1589.71 L320.568 1586.25 L327.283 1584.89 L331.082 1584.89 L331.082 1609.77 L337.288 1609.77 L337.288 1612.97 L321.114 1612.97 L321.114 1609.77 Z\" fill=\"#000000\" fill-rule=\"evenodd\" fill-opacity=\"1\" /><path clip-path=\"url(#clip800)\" d=\"M353.557 1597.42 Q350.999 1597.42 349.495 1599.17 Q348.009 1600.92 348.009 1603.96 Q348.009 1606.99 349.495 1608.76 Q350.999 1610.51 353.557 1610.51 Q356.115 1610.51 357.601 1608.76 Q359.105 1606.99 359.105 1603.96 Q359.105 1600.92 357.601 1599.17 Q356.115 1597.42 353.557 1597.42 M361.099 1585.51 L361.099 1588.97 Q359.67 1588.3 358.203 1587.94 Q356.754 1587.58 355.325 1587.58 Q351.563 1587.58 349.57 1590.12 Q347.595 1592.66 347.313 1597.79 Q348.423 1596.16 350.096 1595.29 Q351.77 1594.41 353.783 1594.41 Q358.014 1594.41 360.46 1596.99 Q362.923 1599.54 362.923 1603.96 Q362.923 1608.29 360.365 1610.9 Q357.808 1613.52 353.557 1613.52 Q348.686 1613.52 346.109 1609.79 Q343.533 1606.05 343.533 1598.96 Q343.533 1592.3 346.692 1588.35 Q349.852 1584.38 355.175 1584.38 Q356.604 1584.38 358.052 1584.67 Q359.519 1584.95 361.099 1585.51 Z\" fill=\"#000000\" fill-rule=\"evenodd\" fill-opacity=\"1\" /><path clip-path=\"url(#clip800)\" d=\"M50.9921 859.215 L80.6679 859.215 L80.6679 863.15 L50.9921 863.15 L50.9921 859.215 Z\" fill=\"#000000\" fill-rule=\"evenodd\" fill-opacity=\"1\" /><path clip-path=\"url(#clip800)\" d=\"M94.7882 872.108 L111.108 872.108 L111.108 876.043 L89.1632 876.043 L89.1632 872.108 Q91.8252 869.353 96.4085 864.724 Q101.015 860.071 102.196 858.728 Q104.441 856.205 105.321 854.469 Q106.223 852.71 106.223 851.02 Q106.223 848.266 104.279 846.529 Q102.358 844.793 99.2558 844.793 Q97.0567 844.793 94.603 845.557 Q92.1725 846.321 89.3947 847.872 L89.3947 843.15 Q92.2188 842.016 94.6724 841.437 Q97.1261 840.858 99.1632 840.858 Q104.534 840.858 107.728 843.543 Q110.922 846.229 110.922 850.719 Q110.922 852.849 110.112 854.77 Q109.325 856.668 107.219 859.261 Q106.64 859.932 103.538 863.15 Q100.436 866.344 94.7882 872.108 Z\" fill=\"#000000\" fill-rule=\"evenodd\" fill-opacity=\"1\" /><path clip-path=\"url(#clip800)\" d=\"M120.922 870.164 L125.807 870.164 L125.807 876.043 L120.922 876.043 L120.922 870.164 Z\" fill=\"#000000\" fill-rule=\"evenodd\" fill-opacity=\"1\" /><path clip-path=\"url(#clip800)\" d=\"M136.038 841.483 L154.394 841.483 L154.394 845.418 L140.32 845.418 L140.32 853.891 Q141.339 853.543 142.357 853.381 Q143.376 853.196 144.394 853.196 Q150.181 853.196 153.561 856.367 Q156.941 859.539 156.941 864.955 Q156.941 870.534 153.468 873.636 Q149.996 876.715 143.677 876.715 Q141.501 876.715 139.232 876.344 Q136.987 875.974 134.58 875.233 L134.58 870.534 Q136.663 871.668 138.885 872.224 Q141.107 872.779 143.584 872.779 Q147.589 872.779 149.927 870.673 Q152.265 868.566 152.265 864.955 Q152.265 861.344 149.927 859.238 Q147.589 857.131 143.584 857.131 Q141.709 857.131 139.834 857.548 Q137.982 857.965 136.038 858.844 L136.038 841.483 Z\" fill=\"#000000\" fill-rule=\"evenodd\" fill-opacity=\"1\" /><path clip-path=\"url(#clip800)\" d=\"M176.153 844.562 Q172.542 844.562 170.714 848.127 Q168.908 851.668 168.908 858.798 Q168.908 865.904 170.714 869.469 Q172.542 873.011 176.153 873.011 Q179.788 873.011 181.593 869.469 Q183.422 865.904 183.422 858.798 Q183.422 851.668 181.593 848.127 Q179.788 844.562 176.153 844.562 M176.153 840.858 Q181.964 840.858 185.019 845.465 Q188.098 850.048 188.098 858.798 Q188.098 867.525 185.019 872.131 Q181.964 876.715 176.153 876.715 Q170.343 876.715 167.265 872.131 Q164.209 867.525 164.209 858.798 Q164.209 850.048 167.265 845.465 Q170.343 840.858 176.153 840.858 Z\" fill=\"#000000\" fill-rule=\"evenodd\" fill-opacity=\"1\" /><path clip-path=\"url(#clip800)\" d=\"M224.487 850.58 L213.908 861.205 L224.487 871.784 L221.732 874.585 L211.107 863.96 L200.482 874.585 L197.751 871.784 L208.306 861.205 L197.751 850.58 L200.482 847.779 L211.107 858.404 L221.732 847.779 L224.487 850.58 Z\" fill=\"#000000\" fill-rule=\"evenodd\" fill-opacity=\"1\" /><path clip-path=\"url(#clip800)\" d=\"M236.848 872.108 L244.486 872.108 L244.486 845.742 L236.176 847.409 L236.176 843.15 L244.44 841.483 L249.116 841.483 L249.116 872.108 L256.755 872.108 L256.755 876.043 L236.848 876.043 L236.848 872.108 Z\" fill=\"#000000\" fill-rule=\"evenodd\" fill-opacity=\"1\" /><path clip-path=\"url(#clip800)\" d=\"M276.199 844.562 Q272.588 844.562 270.759 848.127 Q268.954 851.668 268.954 858.798 Q268.954 865.904 270.759 869.469 Q272.588 873.011 276.199 873.011 Q279.833 873.011 281.639 869.469 Q283.468 865.904 283.468 858.798 Q283.468 851.668 281.639 848.127 Q279.833 844.562 276.199 844.562 M276.199 840.858 Q282.009 840.858 285.065 845.465 Q288.144 850.048 288.144 858.798 Q288.144 867.525 285.065 872.131 Q282.009 876.715 276.199 876.715 Q270.389 876.715 267.31 872.131 Q264.255 867.525 264.255 858.798 Q264.255 850.048 267.31 845.465 Q270.389 840.858 276.199 840.858 Z\" fill=\"#000000\" fill-rule=\"evenodd\" fill-opacity=\"1\" /><path clip-path=\"url(#clip800)\" d=\"M288.144 834.96 L312.255 834.96 L312.255 838.157 L288.144 838.157 L288.144 834.96 Z\" fill=\"#000000\" fill-rule=\"evenodd\" fill-opacity=\"1\" /><path clip-path=\"url(#clip800)\" d=\"M321.114 845.435 L327.32 845.435 L327.32 824.013 L320.568 825.368 L320.568 821.907 L327.283 820.553 L331.082 820.553 L331.082 845.435 L337.288 845.435 L337.288 848.633 L321.114 848.633 L321.114 845.435 Z\" fill=\"#000000\" fill-rule=\"evenodd\" fill-opacity=\"1\" /><path clip-path=\"url(#clip800)\" d=\"M353.557 833.079 Q350.999 833.079 349.495 834.828 Q348.009 836.577 348.009 839.624 Q348.009 842.652 349.495 844.42 Q350.999 846.169 353.557 846.169 Q356.115 846.169 357.601 844.42 Q359.105 842.652 359.105 839.624 Q359.105 836.577 357.601 834.828 Q356.115 833.079 353.557 833.079 M361.099 821.173 L361.099 824.634 Q359.67 823.957 358.203 823.6 Q356.754 823.242 355.325 823.242 Q351.563 823.242 349.57 825.781 Q347.595 828.32 347.313 833.455 Q348.423 831.819 350.096 830.954 Q351.77 830.07 353.783 830.07 Q358.014 830.07 360.46 832.646 Q362.923 835.204 362.923 839.624 Q362.923 843.95 360.365 846.564 Q357.808 849.178 353.557 849.178 Q348.686 849.178 346.109 845.454 Q343.533 841.712 343.533 834.621 Q343.533 827.963 346.692 824.013 Q349.852 820.045 355.175 820.045 Q356.604 820.045 358.052 820.327 Q359.519 820.609 361.099 821.173 Z\" fill=\"#000000\" fill-rule=\"evenodd\" fill-opacity=\"1\" /><path clip-path=\"url(#clip800)\" d=\"M350.979 73.775 Q347.368 73.775 345.539 77.3398 Q343.734 80.8814 343.734 88.011 Q343.734 95.1174 345.539 98.6822 Q347.368 102.224 350.979 102.224 Q354.613 102.224 356.419 98.6822 Q358.247 95.1174 358.247 88.011 Q358.247 80.8814 356.419 77.3398 Q354.613 73.775 350.979 73.775 M350.979 70.0713 Q356.789 70.0713 359.845 74.6777 Q362.923 79.261 362.923 88.011 Q362.923 96.7378 359.845 101.344 Q356.789 105.928 350.979 105.928 Q345.169 105.928 342.09 101.344 Q339.035 96.7378 339.035 88.011 Q339.035 79.261 342.09 74.6777 Q345.169 70.0713 350.979 70.0713 Z\" fill=\"#000000\" fill-rule=\"evenodd\" fill-opacity=\"1\" /><path clip-path=\"url(#clip800)\" d=\"M94.7882 -656.571 L111.108 -656.571 L111.108 -652.635 L89.1632 -652.635 L89.1632 -656.571 Q91.8252 -659.325 96.4085 -663.955 Q101.015 -668.608 102.196 -669.95 Q104.441 -672.473 105.321 -674.209 Q106.223 -675.969 106.223 -677.658 Q106.223 -680.413 104.279 -682.149 Q102.358 -683.885 99.2558 -683.885 Q97.0567 -683.885 94.603 -683.121 Q92.1725 -682.358 89.3947 -680.807 L89.3947 -685.529 Q92.2188 -686.663 94.6724 -687.242 Q97.1261 -687.82 99.1632 -687.82 Q104.534 -687.82 107.728 -685.135 Q110.922 -682.45 110.922 -677.959 Q110.922 -675.83 110.112 -673.908 Q109.325 -672.01 107.219 -669.418 Q106.64 -668.746 103.538 -665.529 Q100.436 -662.334 94.7882 -656.571 Z\" fill=\"#000000\" fill-rule=\"evenodd\" fill-opacity=\"1\" /><path clip-path=\"url(#clip800)\" d=\"M120.922 -658.515 L125.807 -658.515 L125.807 -652.635 L120.922 -652.635 L120.922 -658.515 Z\" fill=\"#000000\" fill-rule=\"evenodd\" fill-opacity=\"1\" /><path clip-path=\"url(#clip800)\" d=\"M136.038 -687.195 L154.394 -687.195 L154.394 -683.26 L140.32 -683.26 L140.32 -674.788 Q141.339 -675.135 142.357 -675.297 Q143.376 -675.483 144.394 -675.483 Q150.181 -675.483 153.561 -672.311 Q156.941 -669.14 156.941 -663.723 Q156.941 -658.145 153.468 -655.043 Q149.996 -651.964 143.677 -651.964 Q141.501 -651.964 139.232 -652.335 Q136.987 -652.705 134.58 -653.446 L134.58 -658.145 Q136.663 -657.01 138.885 -656.455 Q141.107 -655.899 143.584 -655.899 Q147.589 -655.899 149.927 -658.006 Q152.265 -660.112 152.265 -663.723 Q152.265 -667.334 149.927 -669.441 Q147.589 -671.547 143.584 -671.547 Q141.709 -671.547 139.834 -671.131 Q137.982 -670.714 136.038 -669.834 L136.038 -687.195 Z\" fill=\"#000000\" fill-rule=\"evenodd\" fill-opacity=\"1\" /><path clip-path=\"url(#clip800)\" d=\"M176.153 -684.117 Q172.542 -684.117 170.714 -680.552 Q168.908 -677.01 168.908 -669.881 Q168.908 -662.774 170.714 -659.21 Q172.542 -655.668 176.153 -655.668 Q179.788 -655.668 181.593 -659.21 Q183.422 -662.774 183.422 -669.881 Q183.422 -677.01 181.593 -680.552 Q179.788 -684.117 176.153 -684.117 M176.153 -687.82 Q181.964 -687.82 185.019 -683.214 Q188.098 -678.631 188.098 -669.881 Q188.098 -661.154 185.019 -656.547 Q181.964 -651.964 176.153 -651.964 Q170.343 -651.964 167.265 -656.547 Q164.209 -661.154 164.209 -669.881 Q164.209 -678.631 167.265 -683.214 Q170.343 -687.82 176.153 -687.82 Z\" fill=\"#000000\" fill-rule=\"evenodd\" fill-opacity=\"1\" /><path clip-path=\"url(#clip800)\" d=\"M224.487 -678.098 L213.908 -667.473 L224.487 -656.895 L221.732 -654.094 L211.107 -664.719 L200.482 -654.094 L197.751 -656.895 L208.306 -667.473 L197.751 -678.098 L200.482 -680.899 L211.107 -670.274 L221.732 -680.899 L224.487 -678.098 Z\" fill=\"#000000\" fill-rule=\"evenodd\" fill-opacity=\"1\" /><path clip-path=\"url(#clip800)\" d=\"M236.848 -656.571 L244.486 -656.571 L244.486 -682.936 L236.176 -681.27 L236.176 -685.529 L244.44 -687.195 L249.116 -687.195 L249.116 -656.571 L256.755 -656.571 L256.755 -652.635 L236.848 -652.635 L236.848 -656.571 Z\" fill=\"#000000\" fill-rule=\"evenodd\" fill-opacity=\"1\" /><path clip-path=\"url(#clip800)\" d=\"M276.199 -684.117 Q272.588 -684.117 270.759 -680.552 Q268.954 -677.01 268.954 -669.881 Q268.954 -662.774 270.759 -659.21 Q272.588 -655.668 276.199 -655.668 Q279.833 -655.668 281.639 -659.21 Q283.468 -662.774 283.468 -669.881 Q283.468 -677.01 281.639 -680.552 Q279.833 -684.117 276.199 -684.117 M276.199 -687.82 Q282.009 -687.82 285.065 -683.214 Q288.144 -678.631 288.144 -669.881 Q288.144 -661.154 285.065 -656.547 Q282.009 -651.964 276.199 -651.964 Q270.389 -651.964 267.31 -656.547 Q264.255 -661.154 264.255 -669.881 Q264.255 -678.631 267.31 -683.214 Q270.389 -687.82 276.199 -687.82 Z\" fill=\"#000000\" fill-rule=\"evenodd\" fill-opacity=\"1\" /><path clip-path=\"url(#clip800)\" d=\"M288.144 -693.719 L312.255 -693.719 L312.255 -690.522 L288.144 -690.522 L288.144 -693.719 Z\" fill=\"#000000\" fill-rule=\"evenodd\" fill-opacity=\"1\" /><path clip-path=\"url(#clip800)\" d=\"M321.114 -683.243 L327.32 -683.243 L327.32 -704.665 L320.568 -703.311 L320.568 -706.772 L327.283 -708.126 L331.082 -708.126 L331.082 -683.243 L337.288 -683.243 L337.288 -680.046 L321.114 -680.046 L321.114 -683.243 Z\" fill=\"#000000\" fill-rule=\"evenodd\" fill-opacity=\"1\" /><path clip-path=\"url(#clip800)\" d=\"M353.557 -695.6 Q350.999 -695.6 349.495 -693.851 Q348.009 -692.102 348.009 -689.055 Q348.009 -686.027 349.495 -684.259 Q350.999 -682.51 353.557 -682.51 Q356.115 -682.51 357.601 -684.259 Q359.105 -686.027 359.105 -689.055 Q359.105 -692.102 357.601 -693.851 Q356.115 -695.6 353.557 -695.6 M361.099 -707.505 L361.099 -704.045 Q359.67 -704.722 358.203 -705.079 Q356.754 -705.436 355.325 -705.436 Q351.563 -705.436 349.57 -702.897 Q347.595 -700.358 347.313 -695.224 Q348.423 -696.86 350.096 -697.725 Q351.77 -698.609 353.783 -698.609 Q358.014 -698.609 360.46 -696.032 Q362.923 -693.475 362.923 -689.055 Q362.923 -684.729 360.365 -682.115 Q357.808 -679.5 353.557 -679.5 Q348.686 -679.5 346.109 -683.224 Q343.533 -686.967 343.533 -694.058 Q343.533 -700.716 346.692 -704.665 Q349.852 -708.634 355.175 -708.634 Q356.604 -708.634 358.052 -708.352 Q359.519 -708.069 361.099 -707.505 Z\" fill=\"#000000\" fill-rule=\"evenodd\" fill-opacity=\"1\" /><polyline clip-path=\"url(#clip802)\" style=\"stroke:#009af9; stroke-linecap:round; stroke-linejoin:round; stroke-width:4; stroke-opacity:1; fill:none\" points=\"\n  454.22,87.9763 659.025,87.9763 863.829,766.846 1068.63,87.9763 1273.44,87.9763 1478.24,257.694 1683.05,87.9763 1887.85,1445.72 2092.65,87.9763 2297.46,87.9763 \n  \n  \"/>\n<path clip-path=\"url(#clip800)\" d=\"\nM464.051 1438.47 L711.865 1438.47 L711.865 1334.79 L464.051 1334.79  Z\n  \" fill=\"#ffffff\" fill-rule=\"evenodd\" fill-opacity=\"1\"/>\n<polyline clip-path=\"url(#clip800)\" style=\"stroke:#000000; stroke-linecap:round; stroke-linejoin:round; stroke-width:4; stroke-opacity:1; fill:none\" points=\"\n  464.051,1438.47 711.865,1438.47 711.865,1334.79 464.051,1334.79 464.051,1438.47 \n  \"/>\n<polyline clip-path=\"url(#clip800)\" style=\"stroke:#009af9; stroke-linecap:round; stroke-linejoin:round; stroke-width:4; stroke-opacity:1; fill:none\" points=\"\n  485.76,1386.63 616.016,1386.63 \n  \"/>\n<path clip-path=\"url(#clip800)\" d=\"M651.568 1406.32 Q649.762 1410.95 648.049 1412.36 Q646.336 1413.78 643.466 1413.78 L640.063 1413.78 L640.063 1410.21 L642.563 1410.21 Q644.322 1410.21 645.294 1409.38 Q646.267 1408.54 647.447 1405.44 L648.211 1403.5 L637.725 1377.99 L642.239 1377.99 L650.341 1398.27 L658.443 1377.99 L662.956 1377.99 L651.568 1406.32 Z\" fill=\"#000000\" fill-rule=\"evenodd\" fill-opacity=\"1\" /><path clip-path=\"url(#clip800)\" d=\"M670.248 1399.98 L677.887 1399.98 L677.887 1373.61 L669.577 1375.28 L669.577 1371.02 L677.841 1369.35 L682.517 1369.35 L682.517 1399.98 L690.155 1399.98 L690.155 1403.91 L670.248 1403.91 L670.248 1399.98 Z\" fill=\"#000000\" fill-rule=\"evenodd\" fill-opacity=\"1\" /></svg>\n"
     },
     "execution_count": 38,
     "metadata": {},
     "output_type": "execute_result"
    },
    {
     "name": "stderr",
     "output_type": "stream",
     "text": [
      "\u001b[33m\u001b[1m┌ \u001b[22m\u001b[39m\u001b[33m\u001b[1mWarning: \u001b[22m\u001b[39mNo strict ticks found\n",
      "\u001b[33m\u001b[1m└ \u001b[22m\u001b[39m\u001b[90m@ PlotUtils C:\\Users\\antho\\.julia\\packages\\PlotUtils\\M092a\\src\\ticks.jl:191\u001b[39m\n",
      "\u001b[33m\u001b[1m┌ \u001b[22m\u001b[39m\u001b[33m\u001b[1mWarning: \u001b[22m\u001b[39mNo strict ticks found\n",
      "\u001b[33m\u001b[1m└ \u001b[22m\u001b[39m\u001b[90m@ PlotUtils C:\\Users\\antho\\.julia\\packages\\PlotUtils\\M092a\\src\\ticks.jl:191\u001b[39m\n"
     ]
    }
   ],
   "source": [
    "using Plots\n",
    "\n",
    "function findblasmuldifference(n, l)\n",
    "\tfor j = 1:n\n",
    "\t\tA = randn(l,l)\n",
    "\t\tx = rand(l)\n",
    "\t\tif A*x != mul_cols(A,x)\n",
    "\t\t\treturn (A,x)\n",
    "\t\tend\n",
    "\tend\n",
    "end\n",
    "\n",
    "n = 100 # number of attempts\n",
    "l = 10 # size of objects\n",
    "A,x = findblasmuldifference(n,l) # find a difference\n",
    "\n",
    "error = -(A*x - mul_cols(A, x))\n",
    "plot(error)\n",
    "#, yaxis =:log10)"
   ]
  },
  {
   "cell_type": "markdown",
   "metadata": {},
   "source": [
    "## 3. Triangular Matrices"
   ]
  },
  {
   "cell_type": "markdown",
   "metadata": {},
   "source": [
    "In lectures we covered algorithms involving upper-triangular matrices. Here we want to implement\n",
    "the lower-triangular analogues."
   ]
  },
  {
   "cell_type": "markdown",
   "metadata": {},
   "source": [
    "**Problem 3.1** Complete the following function for lower triangular matrix-vector\n",
    "multiplication without ever accessing the zero entries of `L` above the diagonal.\n",
    "Hint: just copy code for `mul_cols` and modify the for-loop ranges a la the `UpperTriangular`\n",
    "case."
   ]
  },
  {
   "cell_type": "code",
   "execution_count": 45,
   "metadata": {},
   "outputs": [
    {
     "data": {
      "text/plain": [
       "\u001b[32m\u001b[1mTest Passed\u001b[22m\u001b[39m"
      ]
     },
     "execution_count": 45,
     "metadata": {},
     "output_type": "execute_result"
    }
   ],
   "source": [
    "function mul_cols(L::LowerTriangular, x)\n",
    "    n = size(L,1)\n",
    "\n",
    "    # promote_type type finds a type that is compatible with both types, eltype gives the type of the elements of a vector / matrix\n",
    "    T = promote_type(eltype(x),eltype(L))\n",
    "    b = zeros(T,n) # the returned vector, begins of all zeros\n",
    "\n",
    "    # TODO: populate b so that L*x ≈ b\n",
    "    for j = 1:n, k = j:n\n",
    "        b[k] += L[k, j] * x[j]\n",
    "    end\n",
    "\n",
    "    b\n",
    "end\n",
    "\n",
    "L = LowerTriangular(randn(5,5))\n",
    "x = randn(5)\n",
    "L*x - mul_cols(L, x)\n",
    "@test L*x ≈ mul_cols(L, x)"
   ]
  },
  {
   "cell_type": "markdown",
   "metadata": {},
   "source": [
    "**Problem 3.2** Complete the following function for solving linear systems with\n",
    "lower triangular systems by implementing forward-substitution."
   ]
  },
  {
   "cell_type": "code",
   "execution_count": 48,
   "metadata": {},
   "outputs": [
    {
     "data": {
      "text/plain": [
       "\u001b[32m\u001b[1mTest Passed\u001b[22m\u001b[39m"
      ]
     },
     "execution_count": 48,
     "metadata": {},
     "output_type": "execute_result"
    }
   ],
   "source": [
    "function ldiv(L::LowerTriangular, b)\n",
    "    n = size(L,1)\n",
    "\n",
    "    if length(b) != n\n",
    "        error(\"The system is not compatible\")\n",
    "    end\n",
    "\n",
    "    x = zeros(n)  # the solution vector\n",
    "    # TODO: populate x using forward-substitution so that L*x ≈ b\n",
    "    for i = 1:n\n",
    "        var = b[i]\n",
    "        for j = 1:(i-1)\n",
    "            var -= L[i, j]*x[j]\n",
    "        end\n",
    "        x[i] = var/L[i, i]\n",
    "    end\n",
    "    x\n",
    "end\n",
    "\n",
    "\n",
    "L = LowerTriangular(randn(5,5))\n",
    "b = randn(5)\n",
    "@test L\\b ≈ ldiv(L, b)"
   ]
  },
  {
   "cell_type": "markdown",
   "metadata": {},
   "source": [
    "## 4. Banded matrices"
   ]
  },
  {
   "cell_type": "markdown",
   "metadata": {},
   "source": [
    "Banded matrices are very important in differential equations and enable much faster algorithms.\n",
    "Here we look at banded upper triangular matrices by implementing a type that encodes this\n",
    "property:"
   ]
  },
  {
   "cell_type": "code",
   "execution_count": 51,
   "metadata": {},
   "outputs": [],
   "source": [
    "struct UpperTridiagonal{T} <: AbstractMatrix{T}\n",
    "    d::Vector{T}   # diagonal entries: d[k] == U[k,k]\n",
    "    du::Vector{T}  # super-diagonal enries: du[k] == U[k,k+1]\n",
    "    du2::Vector{T} # second-super-diagonal entries: du2[k] == U[k,k+2]\n",
    "end"
   ]
  },
  {
   "cell_type": "markdown",
   "metadata": {},
   "source": [
    "This uses the notation `<: AbstractMatrix{T}`: this tells Julia that our type is in fact a matrix.\n",
    "In order for it to behave a matrix we have to overload the function `size` for our type to return\n",
    "the dimensions (in this case we just use the length of the diagonal):"
   ]
  },
  {
   "cell_type": "code",
   "execution_count": 52,
   "metadata": {},
   "outputs": [
    {
     "data": {
      "text/plain": [
       "size (generic function with 120 methods)"
      ]
     },
     "execution_count": 52,
     "metadata": {},
     "output_type": "execute_result"
    }
   ],
   "source": [
    "size(U::UpperTridiagonal) = (length(U.d),length(U.d))"
   ]
  },
  {
   "cell_type": "markdown",
   "metadata": {},
   "source": [
    "Julia still doesn't know what the entries of the matrix are. To do this we need to overload `getindex`.\n",
    "We also overload `setindex!` to allow changing the non-zero entries."
   ]
  },
  {
   "cell_type": "markdown",
   "metadata": {},
   "source": [
    "**Problem 4.1** Complete the implementation of `UpperTridiagonal` which represents a banded matrix with\n",
    "bandwidths $(l,u) = (0,2)$ by overloading `getindex` and `setindex!`. Return zero (of the same type as the other entries)\n",
    "if we are off the bands."
   ]
  },
  {
   "cell_type": "code",
   "execution_count": 61,
   "metadata": {},
   "outputs": [
    {
     "data": {
      "text/plain": [
       "\u001b[32m\u001b[1mTest Passed\u001b[22m\u001b[39m"
      ]
     },
     "execution_count": 61,
     "metadata": {},
     "output_type": "execute_result"
    }
   ],
   "source": [
    "# getindex(U, k, j) is another way to write U[k,j].\n",
    "# This function will therefore be called when we call U[k,j]\n",
    "function getindex(U::UpperTridiagonal, k::Int, j::Int)\n",
    "    d,du,du2 = U.d,U.du,U.du2\n",
    "    # TODO: return U[k,j]\n",
    "    if k == j\n",
    "        return d[k]\n",
    "    elseif k+1 == j \n",
    "        return du[k]\n",
    "    elseif k+2 == j\n",
    "        return du2[k]\n",
    "    else\n",
    "        return 0\n",
    "    end\n",
    "\n",
    "end\n",
    "\n",
    "# setindex!(U, v, k, j) gets called when we write (U[k,j] = v).\n",
    "function setindex!(U::UpperTridiagonal, v, k::Int, j::Int)\n",
    "    d,du,du2 = U.d,U.du,U.du2\n",
    "    if j > k+2 || j < k\n",
    "        error(\"Cannot modify off-band\")\n",
    "    end\n",
    "\n",
    "    if k == j\n",
    "        d[k] = v\n",
    "    elseif k+1 == j \n",
    "        du[k] = v\n",
    "    elseif k+2 == j\n",
    "        du2[k] = v\n",
    "    end    \n",
    "    # TODO: modify d,du,du2 so that U[k,j] == v\n",
    "\n",
    "    U # by convention we return the matrix\n",
    "end\n",
    "\n",
    "U = UpperTridiagonal([1,2,3,4,5], [1,2,3,4], [1,2,3])\n",
    "@test U == [1 1 1 0 0;\n",
    "            0 2 2 2 0;\n",
    "            0 0 3 3 3;\n",
    "            0 0 0 4 4;\n",
    "            0 0 0 0 5]\n",
    "\n",
    "U[3,4] = 2\n",
    "@test U == [1 1 1 0 0;\n",
    "            0 2 2 2 0;\n",
    "            0 0 3 2 3;\n",
    "            0 0 0 4 4;\n",
    "            0 0 0 0 5]"
   ]
  },
  {
   "cell_type": "markdown",
   "metadata": {},
   "source": [
    "**Problem 4.2** Complete the following implementations of `*` and `\\` for `UpperTridiagonal` so that\n",
    "they take only $O(n)$ operations. Hint: the function `max(a,b)` returns the larger of `a` or `b`\n",
    "and `min(a,b)` returns the smaller. They may help to avoid accessing zeros."
   ]
  },
  {
   "cell_type": "code",
   "execution_count": 70,
   "metadata": {},
   "outputs": [
    {
     "data": {
      "text/plain": [
       "\u001b[32m\u001b[1mTest Passed\u001b[22m\u001b[39m"
      ]
     },
     "execution_count": 70,
     "metadata": {},
     "output_type": "execute_result"
    }
   ],
   "source": [
    "function *(U::UpperTridiagonal, x::AbstractVector)\n",
    "    n = size(U,1)\n",
    "    # promote_type type finds a type that is compatible with both types, eltype gives the type of the elements of a vector / matrix\n",
    "    T = promote_type(eltype(x),eltype(U))\n",
    "    b = zeros(T, n) # the returned vector, begins of all zeros\n",
    "    # TODO: populate b so that U*x ≈ b (up to rounding)\n",
    "    for k = 1:n-2, j = k:k+2\n",
    "        b[k] += U[k, j] * x[j]\n",
    "    end\n",
    "    b[n-1] = U[n-1, n-1]*x[n-1] + U[n-1, n]*x[n]\n",
    "    b[n] = U[n,n]*x[n]\n",
    "    b\n",
    "end\n",
    "\n",
    "function \\(U::UpperTridiagonal, b::AbstractVector)\n",
    "    n = size(U,1)\n",
    "    T = promote_type(eltype(b),eltype(U))\n",
    "\n",
    "    if length(b) != n\n",
    "        error(\"The system is not compatible\")\n",
    "    end\n",
    "\n",
    "    x = zeros(T, n)  # the solution vector\n",
    "    ## TODO: populate x so that U*x ≈ b\n",
    "    x[n] = b[n] / U[n,n]\n",
    "    x[n-1] = (b[n-1] - U[n-1, n]*x[n])/U[n-1, n-1]\n",
    "    for k = n-2:-1:1  # start with k=n, then k=n-1, ...\n",
    "        r = b[k]  # dummy variable\n",
    "        for j = k+1:k+2\n",
    "            r -= U[k,j]*x[j] # equivalent to r = r - U[k,j]*x[j]\n",
    "        end\n",
    "        # after this for loop, r = b[k] - ∑_{j=k+1}^n U[k,j]x[j]  \n",
    "        x[k] = r/U[k,k]\n",
    "    end\n",
    "    x\n",
    "end\n",
    "\n",
    "n = 1_000_000 # under-scores are like commas: so this is a million: 1,000,000\n",
    "U = UpperTridiagonal(ones(n), fill(0.5,n-1), fill(0.1,n-2))\n",
    "x = ones(n)\n",
    "b = [fill(1.6,n-2); 1.5; 1] # exact result\n",
    "# note following should take much less than a second\n",
    "@test U*x ≈ b\n",
    "@test U\\b ≈ x"
   ]
  },
  {
   "cell_type": "markdown",
   "metadata": {},
   "source": [
    "---\n",
    "\n",
    "*This notebook was generated using [Literate.jl](https://github.com/fredrikekre/Literate.jl).*"
   ]
  }
 ],
 "metadata": {
  "kernelspec": {
   "display_name": "Julia 1.8.5",
   "language": "julia",
   "name": "julia-1.8"
  },
  "language_info": {
   "file_extension": ".jl",
   "mimetype": "application/julia",
   "name": "julia",
   "version": "1.8.5"
  }
 },
 "nbformat": 4,
 "nbformat_minor": 3
}
