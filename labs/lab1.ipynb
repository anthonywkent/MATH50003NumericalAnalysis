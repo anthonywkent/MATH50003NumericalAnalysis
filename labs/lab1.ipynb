{
 "cells": [
  {
   "cell_type": "markdown",
   "metadata": {},
   "source": [
    "# MATH50003 (2022–23)\n",
    "# Lab 1: Introduction to Julia"
   ]
  },
  {
   "cell_type": "markdown",
   "metadata": {},
   "source": [
    "This problem sheet is designed to introduce some basic Julia\n",
    "knowledge. Note each problem has multiple solutions, and the solution\n",
    "sheet will show different ways of solving the same problem. We will discuss the\n",
    "following:"
   ]
  },
  {
   "cell_type": "markdown",
   "metadata": {},
   "source": [
    "1. Integers\n",
    "2. Reals\n",
    "2. Strings and parsing\n",
    "3. Types"
   ]
  },
  {
   "cell_type": "markdown",
   "metadata": {},
   "source": [
    "In assessment, _any_ \"solution\" will be accepted provided it does the right thing!\n",
    "So you do not need to be able to write broadcasting or comprehensions\n",
    "if you can do for loops."
   ]
  },
  {
   "cell_type": "markdown",
   "metadata": {},
   "source": [
    "We load the following packages:"
   ]
  },
  {
   "cell_type": "code",
   "execution_count": 58,
   "metadata": {},
   "outputs": [],
   "source": [
    "using ColorBitstring, Test"
   ]
  },
  {
   "cell_type": "markdown",
   "metadata": {},
   "source": [
    "## 1. Integers"
   ]
  },
  {
   "cell_type": "markdown",
   "metadata": {},
   "source": [
    "Every primitive number type is stored as a sequence of bits.\n",
    "The number of _bytes_ (i.e. 8-bits) can be deduced using the `sizeof` function:"
   ]
  },
  {
   "cell_type": "code",
   "execution_count": 59,
   "metadata": {},
   "outputs": [
    {
     "data": {
      "text/plain": [
       "4"
      ]
     },
     "execution_count": 59,
     "metadata": {},
     "output_type": "execute_result"
    }
   ],
   "source": [
    "sizeof(UInt32) # 4 bytes == 4*8 bits == 32 bits"
   ]
  },
  {
   "cell_type": "markdown",
   "metadata": {},
   "source": [
    "The function `typeof` can be used to determine the type of a number.\n",
    "By default when we write an integer (e.g. `-123`) it is of type `Int`:"
   ]
  },
  {
   "cell_type": "code",
   "execution_count": 60,
   "metadata": {},
   "outputs": [
    {
     "data": {
      "text/plain": [
       "Int64"
      ]
     },
     "execution_count": 60,
     "metadata": {},
     "output_type": "execute_result"
    }
   ],
   "source": [
    "typeof(5)"
   ]
  },
  {
   "cell_type": "markdown",
   "metadata": {},
   "source": [
    "-----\n",
    "**Problem 1.1** Use `sizeof` to determine how many bits your machine uses for the type `Int`."
   ]
  },
  {
   "cell_type": "code",
   "execution_count": 61,
   "metadata": {},
   "outputs": [
    {
     "data": {
      "text/plain": [
       "8"
      ]
     },
     "execution_count": 61,
     "metadata": {},
     "output_type": "execute_result"
    }
   ],
   "source": [
    "sizeof(Int)"
   ]
  },
  {
   "cell_type": "markdown",
   "metadata": {},
   "source": [
    "-----"
   ]
  },
  {
   "cell_type": "markdown",
   "metadata": {},
   "source": [
    "There are a few ways to create other types of integers. Conversion\n",
    "converts between different types:"
   ]
  },
  {
   "cell_type": "code",
   "execution_count": 62,
   "metadata": {},
   "outputs": [
    {
     "data": {
      "text/plain": [
       "0x05"
      ]
     },
     "execution_count": 62,
     "metadata": {},
     "output_type": "execute_result"
    }
   ],
   "source": [
    "UInt8(5) # converts an `Int` to an `UInt8`, displaying the result in hex"
   ]
  },
  {
   "cell_type": "markdown",
   "metadata": {},
   "source": [
    "This fails if a number cannot be represented as a specified type: e.g. `UInt8(-5)` and `UInt8(2^8)`."
   ]
  },
  {
   "cell_type": "markdown",
   "metadata": {},
   "source": [
    "(These can also be written as e.g. `convert(UInt8, 5)`.)\n",
    "We can also create unsigned integers by specifying their bits\n",
    "by writing `0b` followed by a sequence of bits:"
   ]
  },
  {
   "cell_type": "code",
   "execution_count": 63,
   "metadata": {},
   "outputs": [
    {
     "data": {
      "text/plain": [
       "0x05"
      ]
     },
     "execution_count": 63,
     "metadata": {},
     "output_type": "execute_result"
    }
   ],
   "source": [
    "0b101 # isa UInt8, the smallest type with at least 3 bits"
   ]
  },
  {
   "cell_type": "code",
   "execution_count": 64,
   "metadata": {},
   "outputs": [
    {
     "data": {
      "text/plain": [
       "0x05dd"
      ]
     },
     "execution_count": 64,
     "metadata": {},
     "output_type": "execute_result"
    }
   ],
   "source": [
    "0b10111011101 # isa UInt16, the smallest type with at least 11 bits"
   ]
  },
  {
   "cell_type": "markdown",
   "metadata": {},
   "source": [
    "Or in base-16 using hexadecimal format (with digits `0–9a–f` following\n",
    "an `0x`), where each digit takes 4 bits to represent (since $2^4 = 16$):"
   ]
  },
  {
   "cell_type": "code",
   "execution_count": 65,
   "metadata": {},
   "outputs": [
    {
     "data": {
      "text/plain": [
       "0x000abcde"
      ]
     },
     "execution_count": 65,
     "metadata": {},
     "output_type": "execute_result"
    }
   ],
   "source": [
    "0xabcde # isa UInt32, the smallest type with at least 4*5 = 20 bits"
   ]
  },
  {
   "cell_type": "markdown",
   "metadata": {},
   "source": [
    "-----\n",
    "**Problem 1.2** Use binary format to create an `Int` corresponding to $(101101)_2$."
   ]
  },
  {
   "cell_type": "code",
   "execution_count": 66,
   "metadata": {},
   "outputs": [
    {
     "data": {
      "text/plain": [
       "45"
      ]
     },
     "execution_count": 66,
     "metadata": {},
     "output_type": "execute_result"
    }
   ],
   "source": [
    "Int(0b101101)"
   ]
  },
  {
   "cell_type": "markdown",
   "metadata": {},
   "source": [
    "-----"
   ]
  },
  {
   "cell_type": "markdown",
   "metadata": {},
   "source": [
    "**Problem 1.3** What happens if you specify more than 64 bits using `0b⋅⋅…⋅⋅`?\n",
    "What if you specify more than 128 bits?"
   ]
  },
  {
   "cell_type": "code",
   "execution_count": 67,
   "metadata": {},
   "outputs": [
    {
     "data": {
      "text/plain": [
       "UInt8"
      ]
     },
     "execution_count": 67,
     "metadata": {},
     "output_type": "execute_result"
    }
   ],
   "source": [
    "typeof(0b11001010)"
   ]
  },
  {
   "cell_type": "markdown",
   "metadata": {},
   "source": [
    "-----"
   ]
  },
  {
   "cell_type": "markdown",
   "metadata": {},
   "source": [
    "We can also reinterpret a sequence of bits in a different format:"
   ]
  },
  {
   "cell_type": "code",
   "execution_count": 68,
   "metadata": {},
   "outputs": [
    {
     "data": {
      "text/plain": [
       "-1"
      ]
     },
     "execution_count": 68,
     "metadata": {},
     "output_type": "execute_result"
    }
   ],
   "source": [
    "reinterpret(Int8, 0b11111111) # Create an Int8 with the bits 11111111"
   ]
  },
  {
   "cell_type": "markdown",
   "metadata": {},
   "source": [
    "Arithmetic follows modular arithmetic. The following examples test your understanding of this."
   ]
  },
  {
   "cell_type": "markdown",
   "metadata": {},
   "source": [
    "-----"
   ]
  },
  {
   "cell_type": "markdown",
   "metadata": {},
   "source": [
    "**Problem 1.5** Can you predict what the output of the following will be before hitting return?"
   ]
  },
  {
   "cell_type": "code",
   "execution_count": 69,
   "metadata": {},
   "outputs": [
    {
     "data": {
      "text/plain": [
       "0x82"
      ]
     },
     "execution_count": 69,
     "metadata": {},
     "output_type": "execute_result"
    }
   ],
   "source": [
    "UInt8(120) + UInt8(10) # Convert to `Int` to see the number printed in decimal"
   ]
  },
  {
   "cell_type": "code",
   "execution_count": 70,
   "metadata": {},
   "outputs": [
    {
     "data": {
      "text/plain": [
       "-126"
      ]
     },
     "execution_count": 70,
     "metadata": {},
     "output_type": "execute_result"
    }
   ],
   "source": [
    "Int8(120) + Int8(10)"
   ]
  },
  {
   "cell_type": "code",
   "execution_count": 71,
   "metadata": {},
   "outputs": [
    {
     "data": {
      "text/plain": [
       "0x80"
      ]
     },
     "execution_count": 71,
     "metadata": {},
     "output_type": "execute_result"
    }
   ],
   "source": [
    "UInt8(2)^7"
   ]
  },
  {
   "cell_type": "code",
   "execution_count": 72,
   "metadata": {},
   "outputs": [
    {
     "data": {
      "text/plain": [
       "-128"
      ]
     },
     "execution_count": 72,
     "metadata": {},
     "output_type": "execute_result"
    }
   ],
   "source": [
    "Int8(2)^7"
   ]
  },
  {
   "cell_type": "code",
   "execution_count": 73,
   "metadata": {},
   "outputs": [
    {
     "data": {
      "text/plain": [
       "0"
      ]
     },
     "execution_count": 73,
     "metadata": {},
     "output_type": "execute_result"
    }
   ],
   "source": [
    "Int8(2)^8"
   ]
  },
  {
   "cell_type": "markdown",
   "metadata": {},
   "source": [
    "-----"
   ]
  },
  {
   "cell_type": "markdown",
   "metadata": {},
   "source": [
    "## 2. Reals\n",
    "\n",
    "Real numbers interpret a sequence of bits in floating point format.\n",
    "\n",
    "-----\n",
    "**Problem 2.1** Use `printbits` to guess the binary representation of $1/5$."
   ]
  },
  {
   "cell_type": "code",
   "execution_count": 74,
   "metadata": {},
   "outputs": [
    {
     "name": "stdout",
     "output_type": "stream",
     "text": [
      "\u001b[31m0\u001b[0m\u001b[32m01111111100\u001b[0m\u001b[34m1001100110011001100110011001100110011001100110011010\u001b[0m"
     ]
    }
   ],
   "source": [
    "printbits(1/5)"
   ]
  },
  {
   "cell_type": "markdown",
   "metadata": {},
   "source": [
    "-----"
   ]
  },
  {
   "cell_type": "markdown",
   "metadata": {},
   "source": [
    "**Problem 2.2** Create a positive `Float64` whose exponent is $q = 156$ and has significand\n",
    "bits\n",
    "$$\n",
    "b_k = \\begin{cases}\n",
    "    1 & k\\hbox{ is prime} \\\\\n",
    "    0 & \\hbox{otherwise}\n",
    "    \\end{cases}\n",
    "$$"
   ]
  },
  {
   "cell_type": "code",
   "execution_count": 75,
   "metadata": {},
   "outputs": [],
   "source": [
    "# create a function that tests if numer is prime, returning true or false\n",
    "# then use a for loop to create the bit sequence, remember that for a normal number this always starts with 1.b_1b_2...\n",
    "# bits = '1', then bits *= '1' or bits *= '0', finally we multipy this all by the gignificant bits, so 2^-52\n",
    "# we then times by the exponent but so 2^(156-1023) which gives us our number"
   ]
  },
  {
   "cell_type": "markdown",
   "metadata": {},
   "source": [
    "-----"
   ]
  },
  {
   "cell_type": "markdown",
   "metadata": {},
   "source": [
    "**Problem 2.3** Create the smallest postive non-zero sub-normal `Float16` by specifying\n",
    "its bits."
   ]
  },
  {
   "cell_type": "code",
   "execution_count": 76,
   "metadata": {},
   "outputs": [
    {
     "data": {
      "text/plain": [
       "Float16(6.0e-8)"
      ]
     },
     "execution_count": 76,
     "metadata": {},
     "output_type": "execute_result"
    }
   ],
   "source": [
    "reinterpret(Float16, 0b000000000000001;)"
   ]
  },
  {
   "cell_type": "markdown",
   "metadata": {},
   "source": [
    "-----"
   ]
  },
  {
   "cell_type": "markdown",
   "metadata": {},
   "source": [
    "## 3. Strings and parsing"
   ]
  },
  {
   "cell_type": "markdown",
   "metadata": {},
   "source": [
    "Strings are a convenient way of representing arbitrary strings of digits.\n",
    "For example we can convert bits of a number to a string of \"1\"s and \"0\"s using the function `bitstring`."
   ]
  },
  {
   "cell_type": "markdown",
   "metadata": {},
   "source": [
    "-----"
   ]
  },
  {
   "cell_type": "markdown",
   "metadata": {},
   "source": [
    "**Problem 3.1** Can you predict what the output of the following will be before hitting return?"
   ]
  },
  {
   "cell_type": "code",
   "execution_count": 77,
   "metadata": {},
   "outputs": [
    {
     "data": {
      "text/plain": [
       "\"0000000000000000000000000000000000000000000000000000000000001011\""
      ]
     },
     "execution_count": 77,
     "metadata": {},
     "output_type": "execute_result"
    }
   ],
   "source": [
    "bitstring(11)  # Semi-colon prohibits output, delete to check your answer"
   ]
  },
  {
   "cell_type": "code",
   "execution_count": 78,
   "metadata": {},
   "outputs": [
    {
     "data": {
      "text/plain": [
       "\"1111111111111111111111111111111111111111111111111111111111110101\""
      ]
     },
     "execution_count": 78,
     "metadata": {},
     "output_type": "execute_result"
    }
   ],
   "source": [
    "bitstring(-11)"
   ]
  },
  {
   "cell_type": "markdown",
   "metadata": {},
   "source": [
    "-----"
   ]
  },
  {
   "cell_type": "markdown",
   "metadata": {},
   "source": [
    "We can `parse` a string of digits in base 2 or 10:"
   ]
  },
  {
   "cell_type": "code",
   "execution_count": 79,
   "metadata": {},
   "outputs": [
    {
     "data": {
      "text/plain": [
       "(3, 11)"
      ]
     },
     "execution_count": 79,
     "metadata": {},
     "output_type": "execute_result"
    }
   ],
   "source": [
    "parse(Int8, \"11\"; base=2),\n",
    "parse(Int8, \"00001011\"; base=2)"
   ]
  },
  {
   "cell_type": "markdown",
   "metadata": {},
   "source": [
    "Be careful with \"negative\" numbers, the following will fail: `parse(Int8, \"10001011\"; base=2)`"
   ]
  },
  {
   "cell_type": "markdown",
   "metadata": {},
   "source": [
    "It treats the string as binary digits, NOT bits. That is, negative numbers\n",
    "are represented using the minus sign:"
   ]
  },
  {
   "cell_type": "code",
   "execution_count": 80,
   "metadata": {},
   "outputs": [
    {
     "data": {
      "text/plain": [
       "-11"
      ]
     },
     "execution_count": 80,
     "metadata": {},
     "output_type": "execute_result"
    }
   ],
   "source": [
    "parse(Int8, \"-00001011\"; base=2)"
   ]
  },
  {
   "cell_type": "markdown",
   "metadata": {},
   "source": [
    "-----"
   ]
  },
  {
   "cell_type": "markdown",
   "metadata": {},
   "source": [
    "**Problem 3.2** Combine `parse`, `reinterpret`, and `UInt8` to convert the\n",
    "above string to a (negative) `Int8` with the specified bits."
   ]
  },
  {
   "cell_type": "code",
   "execution_count": 81,
   "metadata": {},
   "outputs": [
    {
     "data": {
      "text/plain": [
       "-117"
      ]
     },
     "execution_count": 81,
     "metadata": {},
     "output_type": "execute_result"
    }
   ],
   "source": [
    "reinterpret(Int8, parse(UInt8, \"10001011\"; base = 2))"
   ]
  },
  {
   "cell_type": "markdown",
   "metadata": {},
   "source": [
    "-----"
   ]
  },
  {
   "cell_type": "markdown",
   "metadata": {},
   "source": [
    "To concatenate strings we use `*` (multiplication is used because string concatenation\n",
    "is non-commutative):"
   ]
  },
  {
   "cell_type": "code",
   "execution_count": 82,
   "metadata": {},
   "outputs": [
    {
     "data": {
      "text/plain": [
       "\"hibye\""
      ]
     },
     "execution_count": 82,
     "metadata": {},
     "output_type": "execute_result"
    }
   ],
   "source": [
    "\"hi\" * \"bye\""
   ]
  },
  {
   "cell_type": "markdown",
   "metadata": {},
   "source": [
    "The string consisting of the first nine characters can be found using `str[1:9]` where `str` is any string:"
   ]
  },
  {
   "cell_type": "code",
   "execution_count": 83,
   "metadata": {},
   "outputs": [
    {
     "data": {
      "text/plain": [
       "\"hibye0123\""
      ]
     },
     "execution_count": 83,
     "metadata": {},
     "output_type": "execute_result"
    }
   ],
   "source": [
    "str=\"hibye0123445556\"\n",
    "str[1:9]  # returns \"hibye0123\""
   ]
  },
  {
   "cell_type": "markdown",
   "metadata": {},
   "source": [
    "The string consisting of the 11th through last character can be found using `str[11:end]`:"
   ]
  },
  {
   "cell_type": "code",
   "execution_count": 84,
   "metadata": {},
   "outputs": [
    {
     "data": {
      "text/plain": [
       "\"45556\""
      ]
     },
     "execution_count": 84,
     "metadata": {},
     "output_type": "execute_result"
    }
   ],
   "source": [
    "str=\"hibye0123445556\"\n",
    "str[11:end]  # returns \"45556\""
   ]
  },
  {
   "cell_type": "markdown",
   "metadata": {},
   "source": [
    "-----"
   ]
  },
  {
   "cell_type": "markdown",
   "metadata": {},
   "source": [
    "**Problem 3.3** Complete the following function that sets the 10th bit of an `Int32` to `1`,\n",
    "and returns an `Int32`, assuming that the input is a positive integer, using `bitstring`,\n",
    "`parse` and `*`."
   ]
  },
  {
   "cell_type": "code",
   "execution_count": 85,
   "metadata": {},
   "outputs": [
    {
     "data": {
      "text/plain": [
       "\u001b[32m\u001b[1mTest Passed\u001b[22m\u001b[39m"
      ]
     },
     "execution_count": 85,
     "metadata": {},
     "output_type": "execute_result"
    }
   ],
   "source": [
    "function tenthbitto1(x::Int32)\n",
    "    # TODO: change the 10th bit of `x` to 1\n",
    "    bits = bitstring(x)\n",
    "    parse(Int32, bits[1:9] * '1' * bits[11:end]; base = 2)\n",
    "end\n",
    "\n",
    "# unit tests are to help you check your result\n",
    "# Change to `@test` to see if your test passes\n",
    "@test tenthbitto1(Int32(100)) ≡ Int32(4194404)"
   ]
  },
  {
   "cell_type": "markdown",
   "metadata": {},
   "source": [
    "-----"
   ]
  },
  {
   "cell_type": "markdown",
   "metadata": {},
   "source": [
    "**Problem 3.4**  Modify the previous function to also work with negative numbers."
   ]
  },
  {
   "cell_type": "code",
   "execution_count": 86,
   "metadata": {},
   "outputs": [
    {
     "data": {
      "text/plain": [
       "\u001b[32m\u001b[1mTest Passed\u001b[22m\u001b[39m"
      ]
     },
     "execution_count": 86,
     "metadata": {},
     "output_type": "execute_result"
    }
   ],
   "source": [
    "function tenthbitto1(x::Int32)\n",
    "# TODO: change the 10th bit of `x` to 1\n",
    "    bits = bitstring(x)\n",
    "    reinterpret(Int32, parse(UInt32, bits[1:9] * '1' * bits[11:end]; base = 2))\n",
    "end\n",
    "\n",
    "@test tenthbitto1(Int32(100)) ≡ Int32(4194404)\n",
    "@test tenthbitto1(-Int32(100000010)) ≡ Int32(-95805706)"
   ]
  },
  {
   "cell_type": "markdown",
   "metadata": {},
   "source": [
    "-----"
   ]
  },
  {
   "cell_type": "markdown",
   "metadata": {},
   "source": [
    "## 4. Types"
   ]
  },
  {
   "cell_type": "markdown",
   "metadata": {},
   "source": [
    "Types allow for combining multiple numbers (or other types) to represent a more complicated\n",
    "object. That is, while a computer can only apply functions on $p$-bits at a time,\n",
    "these functions can be combined to perform more complicated operations on types\n",
    "that require more than $p$-bits. A simple example is a rational function."
   ]
  },
  {
   "cell_type": "markdown",
   "metadata": {},
   "source": [
    "-----"
   ]
  },
  {
   "cell_type": "markdown",
   "metadata": {},
   "source": [
    "**Problem 4.1** Create a type `Rat` with two `Int` fields, `p` and `q`,\n",
    "representing a rational function including `+`, `*`, `-`, and `/`."
   ]
  },
  {
   "cell_type": "code",
   "execution_count": 91,
   "metadata": {},
   "outputs": [
    {
     "data": {
      "text/plain": [
       "\u001b[32m\u001b[1mTest Passed\u001b[22m\u001b[39m"
      ]
     },
     "execution_count": 91,
     "metadata": {},
     "output_type": "execute_result"
    }
   ],
   "source": [
    "# `struct` creates a new type called `Rat`\n",
    "# consisting of 128 bits, half encode `p`\n",
    "# and half encode `q`\n",
    "struct Rat\n",
    "    p::Int\n",
    "    q::Int\n",
    "end\n",
    "\n",
    "# A new instance of `Rat` is created via e.g. `Rat(1, 2)` represents 1/2\n",
    "# where the first argument specifies `p` and the second argument `q`.\n",
    "# The fields are accessed by `.`:\n",
    "\n",
    "x = Rat(1, 2)\n",
    "@test x.p == 1\n",
    "@test x.q == 2\n",
    "\n",
    "# We import `+`, `-`, `*`, `/` so we can \"overload\" these operations specifically\n",
    "# for `Rat`.\n",
    "import Base: +, -, *, /, ==\n",
    "\n",
    "\n",
    "# The ::Rat means the following version of `==` is only called if both arguments\n",
    "# are Rat\n",
    "function ==(x::Rat, y::Rat)\n",
    "    # TODO: implement equality, making sure to check the case where\n",
    "    # the numerator/denominator are possibly reducible\n",
    "    # Hint: `gcd` and `div` may be useful. Use `?` to find out what they do\n",
    "    a = gcd(x.p, x.q)\n",
    "    b = gcd(y.p, y.q)\n",
    "       \n",
    "    x_new = Rat(div(x.p, a), div(x.q, a))\n",
    "    y_new = Rat(div(y.p, b), div(y.q, b))\n",
    "    if x_new.p == y_new.p && x_new.q == y_new.q\n",
    "        return true\n",
    "    else\n",
    "        return false\n",
    "    end\n",
    "end\n",
    "\n",
    "# We can also support equality when `x isa Rat` and `y isa Integer`\n",
    "function ==(x::Rat, y::Integer)\n",
    "    a = gcd(x.p, x.q)\n",
    "    if div(x.p, a) == y\n",
    "        return true\n",
    "    else\n",
    "        return false\n",
    "    end\n",
    "end\n",
    "\n",
    "# TODO: implement ==(x::Integer, y::Rat)\n",
    "function ==(x::Integer, y::Rat)\n",
    "    b = gcd(y.p, y.q)\n",
    "    return div(y.p, b) == x\n",
    "end\n",
    "\n",
    "\n",
    "@test Rat(1, 2) == Rat(2, 4)\n",
    "@test Rat(1, 2) ≠ Rat(1, 3)\n",
    "@test Rat(2,2) == 1\n",
    "@test 1 == Rat(2,2)\n",
    "\n",
    "# TODO: implement +, -, *, and /,\n",
    "function +(x::Rat, y::Rat)\n",
    "    p = x.p*y.q + y.p*x.q\n",
    "    q = x.q * y.q\n",
    "    return Rat(p, q)\n",
    "end\n",
    "\n",
    "function -(x::Rat, y::Rat)\n",
    "    p = x.p*y.q - y.p*x.q\n",
    "    q = x.q * y.q\n",
    "    return Rat(p, q)\n",
    "end\n",
    "\n",
    "function *(x::Rat, y::Rat)\n",
    "    p = x.p * y.p\n",
    "    q = x.q * y.q\n",
    "    return Rat(p, q)\n",
    "end\n",
    "\n",
    "function /(x::Rat, y::Rat)\n",
    "    p = x.p * y.q\n",
    "    q = x.q * y.p\n",
    "    return Rat(p, q)\n",
    "end\n",
    "\n",
    "\n",
    "@test Rat(1, 2) + Rat(1, 3) == Rat(5, 6)\n",
    "@test Rat(1, 3) - Rat(1, 2) == Rat(-1, 6)\n",
    "@test Rat(2, 3) * Rat(3, 4) == Rat(1, 2)\n",
    "@test Rat(2, 3) / Rat(3, 4) == Rat(8, 9)"
   ]
  },
  {
   "cell_type": "markdown",
   "metadata": {},
   "source": [
    "---------"
   ]
  },
  {
   "cell_type": "markdown",
   "metadata": {},
   "source": [
    "Templating is a way of letting fields take on different types. For example, the following\n",
    "code allows `x` to be any type:"
   ]
  },
  {
   "cell_type": "code",
   "execution_count": null,
   "metadata": {},
   "outputs": [
    {
     "data": {
      "text/plain": [
       "Main.var\"##315\".Foo{Int64}(5)"
      ]
     },
     "execution_count": 31,
     "metadata": {},
     "output_type": "execute_result"
    }
   ],
   "source": [
    "struct Foo{T}\n",
    "    x::T\n",
    "end\n",
    "\n",
    "Foo(5) # isa Foo{Int}"
   ]
  },
  {
   "cell_type": "code",
   "execution_count": null,
   "metadata": {},
   "outputs": [
    {
     "data": {
      "text/plain": [
       "Main.var\"##315\".Foo{String}(\"hi\")"
      ]
     },
     "execution_count": 32,
     "metadata": {},
     "output_type": "execute_result"
    }
   ],
   "source": [
    "Foo(\"hi\") # isa Foo{String}"
   ]
  },
  {
   "cell_type": "markdown",
   "metadata": {},
   "source": [
    "-----"
   ]
  },
  {
   "cell_type": "markdown",
   "metadata": {},
   "source": [
    "**Problem 4.2** Modify the above code so that `p` and `q` can be other types but both the same type,\n",
    "for example, `Int16` or `BigInt`."
   ]
  },
  {
   "cell_type": "code",
   "execution_count": null,
   "metadata": {},
   "outputs": [],
   "source": [
    "# struct new type 'RatTempleted{T}' with p::T and q::T then the other code is identical with the new name"
   ]
  },
  {
   "cell_type": "markdown",
   "metadata": {},
   "source": [
    "---\n",
    "\n",
    "*This notebook was generated using [Literate.jl](https://github.com/fredrikekre/Literate.jl).*"
   ]
  }
 ],
 "metadata": {
  "kernelspec": {
   "display_name": "Julia 1.8.5",
   "language": "julia",
   "name": "julia-1.8"
  },
  "language_info": {
   "file_extension": ".jl",
   "mimetype": "application/julia",
   "name": "julia",
   "version": "1.8.5"
  }
 },
 "nbformat": 4,
 "nbformat_minor": 3
}
