{
 "cells": [
  {
   "attachments": {},
   "cell_type": "markdown",
   "metadata": {},
   "source": [
    "**Definition 2 (floating-point numbers)**\n",
    "Given integers $σ$ (the \"exponential shift\") $Q$ (the number of exponent bits) and \n",
    "$S$ (the precision), define the set of\n",
    "_Floating-point numbers_ by dividing into _normal_, _sub-normal_, and _special number_ subsets:\n",
    "$$\n",
    "F_{σ,Q,S} := F^{\\rm normal}_{σ,Q,S} \\cup F^{\\rm sub}_{σ,Q,S} \\cup F^{\\rm special}.\n",
    "$$\n",
    "The _normal numbers_\n",
    "$F^{\\rm normal}_{σ,Q,S} ⊂ ℝ$ are\n",
    "$$\n",
    "F^{\\rm normal}_{σ,Q,S} := \\{± 2^{q-σ} × (1.b_1b_2b_3…b_S)_2 : 1 ≤ q < 2^Q-1 \\}.\n",
    "$$\n",
    "The _sub-normal numbers_ $F^{\\rm sub}_{σ,Q,S} ⊂ ℝ$ are\n",
    "$$\n",
    "F^{\\rm sub}_{σ,Q,S} := \\{± 2^{1-σ} × (0.b_1b_2b_3…b_S)_2\\}.\n",
    "$$\n",
    "The _special numbers_ $F^{\\rm special} ⊄ ℝ$ are \n",
    "$$\n",
    "F^{\\rm special} :=  \\{∞, -∞, {\\rm NaN}\\}\n",
    "$$\n",
    "where ${\\rm NaN}$ is a special symbol representing \"not a number\", essentially an error flag."
   ]
  },
  {
   "attachments": {},
   "cell_type": "markdown",
   "metadata": {},
   "source": [
    "Float16 : sigma = 15, Q = 5, S = 10;    \n",
    "Float32 : sigma = 127, Q = 8, S = 23;    \n",
    "Float64 : sigma = 1023, Q = 11, S = 52"
   ]
  },
  {
   "cell_type": "code",
   "execution_count": 2,
   "metadata": {},
   "outputs": [
    {
     "data": {
      "text/plain": [
       "3×4 Matrix{Int64}:\n",
       " 2  3  4  5\n",
       " 3  4  5  6\n",
       " 4  5  6  7"
      ]
     },
     "execution_count": 2,
     "metadata": {},
     "output_type": "execute_result"
    }
   ],
   "source": [
    "[k+j for k = 1:3, j = 1:4]\n",
    "# one method on how to make a matrix ^"
   ]
  },
  {
   "attachments": {},
   "cell_type": "markdown",
   "metadata": {},
   "source": [
    "Vector x -> length(x)  \n",
    "Matrix A -> size(A)"
   ]
  },
  {
   "attachments": {},
   "cell_type": "markdown",
   "metadata": {},
   "source": [
    "**LAB2:**\n",
    "\n",
    "setrounding   \n",
    "bounding exponential with taylor series"
   ]
  },
  {
   "attachments": {},
   "cell_type": "markdown",
   "metadata": {},
   "source": [
    "**LAB3:**\n",
    "\n",
    "divided differences:  \n",
    "-> for f'(x) let h = sqrt(eps()), for f''(x) let h = sqrt(sqrt(eps()))  \n",
    "-> problem 2 has examples of how to write functions that are a bit more complex  \n",
    "\n",
    "dual numbers:  \n",
    "-> p(a+bϵ) = p(a) + bp'(a)ϵ  \n"
   ]
  },
  {
   "attachments": {},
   "cell_type": "markdown",
   "metadata": {},
   "source": [
    "**LAB4:**\n",
    "\n",
    "making matrices  \n",
    "\n",
    "Matrices:  \n",
    "-> forward substitution for triangular matricies (problem 3.2)  \n",
    "-> banded matrices e.g. upper tridiagonal: (problem 4)  \n",
    "      --- getindex and setindex  \n",
    "      --- multiplication Ax and forward substition (Ax = b therefore A \\ b = x)  \n"
   ]
  },
  {
   "attachments": {},
   "cell_type": "markdown",
   "metadata": {},
   "source": [
    "**LAB5:**  \n",
    "\n",
    "-> permutations  \n",
    "-> reflections, including householder:  \n",
    "    --- problem 3 has example of reflections on columns of a matrix   \n",
    "    \n"
   ]
  },
  {
   "attachments": {},
   "cell_type": "markdown",
   "metadata": {},
   "source": [
    "**LAB6:**  \n",
    "\n",
    "-> least-squares:  \n",
    "    --- vandermonde matrix and interpolation of function as polynomial"
   ]
  }
 ],
 "metadata": {
  "kernelspec": {
   "display_name": "Julia 1.8.5",
   "language": "julia",
   "name": "julia-1.8"
  },
  "language_info": {
   "file_extension": ".jl",
   "mimetype": "application/julia",
   "name": "julia",
   "version": "1.8.5"
  },
  "orig_nbformat": 4
 },
 "nbformat": 4,
 "nbformat_minor": 2
}
